{
  "nbformat": 4,
  "nbformat_minor": 0,
  "metadata": {
    "colab": {
      "name": "Lottery Aid to Education Cleaning+EDA",
      "provenance": [],
      "collapsed_sections": [
        "5MCfCcq4NkWP"
      ]
    },
    "kernelspec": {
      "name": "python3",
      "display_name": "Python 3"
    },
    "language_info": {
      "name": "python"
    }
  },
  "cells": [
    {
      "cell_type": "markdown",
      "metadata": {
        "id": "C-KSsqdnMfWU"
      },
      "source": [
        "# **School District Aid Data**\n",
        "\n",
        "\n",
        "\n"
      ]
    },
    {
      "cell_type": "markdown",
      "metadata": {
        "id": "Nd8Cki7dNoz9"
      },
      "source": [
        "# Dataset Cleaning"
      ]
    },
    {
      "cell_type": "code",
      "metadata": {
        "id": "55WBGv-BOuEu"
      },
      "source": [
        "import pandas as pd\n",
        "import matplotlib.pyplot as plt\n",
        "import numpy as np\n",
        "import seaborn as sns\n",
        "import datetime\n"
      ],
      "execution_count": null,
      "outputs": []
    },
    {
      "cell_type": "code",
      "metadata": {
        "colab": {
          "resources": {
            "http://localhost:8080/nbextensions/google.colab/files.js": {
              "data": "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",
              "ok": true,
              "headers": [
                [
                  "content-type",
                  "application/javascript"
                ]
              ],
              "status": 200,
              "status_text": ""
            }
          },
          "base_uri": "https://localhost:8080/",
          "height": 72
        },
        "id": "29mf0p_tOcXv",
        "outputId": "61bc35be-a6e8-42d3-ad23-0d390320104d"
      },
      "source": [
        "from google.colab import files\n",
        "uploaded = files.upload()"
      ],
      "execution_count": null,
      "outputs": [
        {
          "output_type": "display_data",
          "data": {
            "text/html": [
              "\n",
              "     <input type=\"file\" id=\"files-f9400107-d23d-41da-af03-15181c999f43\" name=\"files[]\" multiple disabled\n",
              "        style=\"border:none\" />\n",
              "     <output id=\"result-f9400107-d23d-41da-af03-15181c999f43\">\n",
              "      Upload widget is only available when the cell has been executed in the\n",
              "      current browser session. Please rerun this cell to enable.\n",
              "      </output>\n",
              "      <script src=\"/nbextensions/google.colab/files.js\"></script> "
            ],
            "text/plain": [
              "<IPython.core.display.HTML object>"
            ]
          },
          "metadata": {
            "tags": []
          }
        },
        {
          "output_type": "stream",
          "text": [
            "Saving Lottery_Aid_to_Education__Beginning_2002 (3).csv to Lottery_Aid_to_Education__Beginning_2002 (3).csv\n"
          ],
          "name": "stdout"
        }
      ]
    },
    {
      "cell_type": "code",
      "metadata": {
        "id": "6NBy6wCIOlMF",
        "colab": {
          "base_uri": "https://localhost:8080/",
          "height": 419
        },
        "outputId": "ef9e86bd-0e3a-4006-84d0-c477235224a0"
      },
      "source": [
        "df = pd.read_csv(\"Lottery_Aid_to_Education__Beginning_2002 (3).csv\")\n",
        "df"
      ],
      "execution_count": null,
      "outputs": [
        {
          "output_type": "execute_result",
          "data": {
            "text/html": [
              "<div>\n",
              "<style scoped>\n",
              "    .dataframe tbody tr th:only-of-type {\n",
              "        vertical-align: middle;\n",
              "    }\n",
              "\n",
              "    .dataframe tbody tr th {\n",
              "        vertical-align: top;\n",
              "    }\n",
              "\n",
              "    .dataframe thead th {\n",
              "        text-align: right;\n",
              "    }\n",
              "</style>\n",
              "<table border=\"1\" class=\"dataframe\">\n",
              "  <thead>\n",
              "    <tr style=\"text-align: right;\">\n",
              "      <th></th>\n",
              "      <th>Beginning Fiscal Year</th>\n",
              "      <th>Ending Fiscal Year</th>\n",
              "      <th>County</th>\n",
              "      <th>School District</th>\n",
              "      <th>Amount of Aid</th>\n",
              "    </tr>\n",
              "  </thead>\n",
              "  <tbody>\n",
              "    <tr>\n",
              "      <th>0</th>\n",
              "      <td>2002</td>\n",
              "      <td>2003</td>\n",
              "      <td>Albany</td>\n",
              "      <td>Albany</td>\n",
              "      <td>7,242,297.04</td>\n",
              "    </tr>\n",
              "    <tr>\n",
              "      <th>1</th>\n",
              "      <td>2002</td>\n",
              "      <td>2003</td>\n",
              "      <td>Albany</td>\n",
              "      <td>Berne-Knox-Westerlo</td>\n",
              "      <td>874,046.94</td>\n",
              "    </tr>\n",
              "    <tr>\n",
              "      <th>2</th>\n",
              "      <td>2002</td>\n",
              "      <td>2003</td>\n",
              "      <td>Albany</td>\n",
              "      <td>Bethlehem</td>\n",
              "      <td>2,786,954.71</td>\n",
              "    </tr>\n",
              "    <tr>\n",
              "      <th>3</th>\n",
              "      <td>2002</td>\n",
              "      <td>2003</td>\n",
              "      <td>Albany</td>\n",
              "      <td>Cohoes</td>\n",
              "      <td>1,820,297.94</td>\n",
              "    </tr>\n",
              "    <tr>\n",
              "      <th>4</th>\n",
              "      <td>2002</td>\n",
              "      <td>2003</td>\n",
              "      <td>Albany</td>\n",
              "      <td>Green Island</td>\n",
              "      <td>241,859.93</td>\n",
              "    </tr>\n",
              "    <tr>\n",
              "      <th>...</th>\n",
              "      <td>...</td>\n",
              "      <td>...</td>\n",
              "      <td>...</td>\n",
              "      <td>...</td>\n",
              "      <td>...</td>\n",
              "    </tr>\n",
              "    <tr>\n",
              "      <th>12267</th>\n",
              "      <td>2019</td>\n",
              "      <td>2020</td>\n",
              "      <td>Wyoming</td>\n",
              "      <td>Perry</td>\n",
              "      <td>1,460,861.27</td>\n",
              "    </tr>\n",
              "    <tr>\n",
              "      <th>12268</th>\n",
              "      <td>2019</td>\n",
              "      <td>2020</td>\n",
              "      <td>Wyoming</td>\n",
              "      <td>Warsaw</td>\n",
              "      <td>1,539,093.10</td>\n",
              "    </tr>\n",
              "    <tr>\n",
              "      <th>12269</th>\n",
              "      <td>2019</td>\n",
              "      <td>2020</td>\n",
              "      <td>Wyoming</td>\n",
              "      <td>Wyoming</td>\n",
              "      <td>197,556.57</td>\n",
              "    </tr>\n",
              "    <tr>\n",
              "      <th>12270</th>\n",
              "      <td>2019</td>\n",
              "      <td>2020</td>\n",
              "      <td>Yates</td>\n",
              "      <td>Dundee</td>\n",
              "      <td>1,116,357.36</td>\n",
              "    </tr>\n",
              "    <tr>\n",
              "      <th>12271</th>\n",
              "      <td>2019</td>\n",
              "      <td>2020</td>\n",
              "      <td>Yates</td>\n",
              "      <td>Penn Yan</td>\n",
              "      <td>1,092,517.89</td>\n",
              "    </tr>\n",
              "  </tbody>\n",
              "</table>\n",
              "<p>12272 rows × 5 columns</p>\n",
              "</div>"
            ],
            "text/plain": [
              "       Beginning Fiscal Year  ...   Amount of Aid \n",
              "0                       2002  ...     7,242,297.04\n",
              "1                       2002  ...       874,046.94\n",
              "2                       2002  ...     2,786,954.71\n",
              "3                       2002  ...     1,820,297.94\n",
              "4                       2002  ...       241,859.93\n",
              "...                      ...  ...              ...\n",
              "12267                   2019  ...     1,460,861.27\n",
              "12268                   2019  ...     1,539,093.10\n",
              "12269                   2019  ...       197,556.57\n",
              "12270                   2019  ...     1,116,357.36\n",
              "12271                   2019  ...     1,092,517.89\n",
              "\n",
              "[12272 rows x 5 columns]"
            ]
          },
          "metadata": {
            "tags": []
          },
          "execution_count": 6
        }
      ]
    },
    {
      "cell_type": "code",
      "metadata": {
        "id": "UlS-M-fe59pB",
        "colab": {
          "base_uri": "https://localhost:8080/"
        },
        "outputId": "760927ed-411e-4f12-c2c3-16896df3ff0e"
      },
      "source": [
        "df_copy = df.copy()\n",
        "\n",
        "#remove School District and Ending Fiscal Year\n",
        "df_copy = df_copy.drop(columns=['School District', 'Ending Fiscal Year'])\n",
        "\n",
        "#assign 'Beginning Fiscal Year' from int64 to datetime\n",
        "df_copy['Beginning Fiscal Year'] = pd.to_datetime(df_copy['Beginning Fiscal Year'], format='%Y')\n",
        "\n",
        "#remove spaces from \"Amount of Aid\" column name \n",
        "df_copy = df_copy.rename(columns = {' Amount of Aid ':'Amount of Aid'})\n",
        "\n",
        "#rename the misspelled county name 'Saint Lawrence' with 'St Lawrence'\n",
        "df_copy['County'] = df_copy[\"County\"].replace({'Saint Lawrence':'St Lawrence'})\n",
        "\n",
        "#groupy by county and year, sum aid amounts, and return a dataframe\n",
        "df_copy = df_copy.groupby(['County', 'Beginning Fiscal Year']).sum().reset_index()\n",
        "\n",
        "\n",
        "#add Year column\n",
        "df_copy[\"Year\"] = pd.to_datetime(df_copy[\"Beginning Fiscal Year\"]).dt.year\n",
        "\n",
        "#df_copy.info() #---->(1044, 4) dataframe (18 years x 58 NYcounties=1044)\n",
        "df_copy['County'].unique()\n"
      ],
      "execution_count": null,
      "outputs": [
        {
          "output_type": "execute_result",
          "data": {
            "text/plain": [
              "array(['Albany', 'Allegany', 'Broome', 'Cattaraugus', 'Cayuga',\n",
              "       'Chautauqua', 'Chemung', 'Chenango', 'Clinton', 'Columbia',\n",
              "       'Cortland', 'Delaware', 'Dutchess', 'Erie', 'Essex', 'Franklin',\n",
              "       'Fulton', 'Genesee', 'Greene', 'Hamilton', 'Herkimer', 'Jefferson',\n",
              "       'Lewis', 'Livingston', 'Madison', 'Monroe', 'Montgomery', 'Nassau',\n",
              "       'New York City', 'Niagara', 'Oneida', 'Onondaga', 'Ontario',\n",
              "       'Orange', 'Orleans', 'Oswego', 'Otsego', 'Putnam', 'Rensselaer',\n",
              "       'Rockland', 'Saratoga', 'Schenectady', 'Schoharie', 'Schuyler',\n",
              "       'Seneca', 'St Lawrence', 'Steuben', 'Suffolk', 'Sullivan', 'Tioga',\n",
              "       'Tompkins', 'Ulster', 'Warren', 'Washington', 'Wayne',\n",
              "       'Westchester', 'Wyoming', 'Yates'], dtype=object)"
            ]
          },
          "metadata": {
            "tags": []
          },
          "execution_count": 8
        }
      ]
    },
    {
      "cell_type": "code",
      "metadata": {
        "id": "3D42e8JVAGq0"
      },
      "source": [
        "df_copy2019 = df_copy[(df_copy['Year'].isin([2018,2019]))]\n",
        "df_copy2019 = df_copy2019.rename(columns = {'County':'county_name'})\n",
        "\n",
        "#df_copy2019.info() #---->(116,4) dataframe (2 years x 58 NYcounties=1044)"
      ],
      "execution_count": null,
      "outputs": []
    },
    {
      "cell_type": "code",
      "metadata": {
        "id": "Icth2jJNhUFF"
      },
      "source": [
        "df_rank_2018copy = df_rank_2019.copy()\n",
        "df_rank_2019copy = df_rank_2020.copy()\n",
        "\n",
        "#assign years to each row\n",
        "df_rank_2018copy['Year']= 2018\n",
        "df_rank_2019copy['Year']= 2019\n",
        "\n",
        "#select relevant columns for new database\n",
        "df_rank_2019copy = df_rank_2019copy.iloc[: , [2,26,16,19,11,12,13,18]]\n",
        "df_rank_2018copy = df_rank_2018copy.iloc[: , [2,26,16,19,11,12,13,18]]\n",
        "\n",
        "#already checked that columns are the same, so will merge\n",
        "df_rank_combine = pd.concat([df_rank_2018copy, df_rank_2019copy])\n",
        "\n",
        "#rename the misspelled county name 'St. Lawrence' with 'St Lawrence'\n",
        "df_rank_combine[\"county_name\"] = df_rank_combine[\"county_name\"].replace({'St. Lawrence':'St Lawrence'})\n"
      ],
      "execution_count": null,
      "outputs": []
    },
    {
      "cell_type": "code",
      "metadata": {
        "id": "DB06Mm-d_Old"
      },
      "source": [
        "#Keep only counties in NYC\n",
        "county_nyc=['New York','Kings','Bronx','Richmond','Queens']\n",
        "NYCrank=df_rank_combine[df_rank_combine['county_name'].isin(county_nyc)]\n"
      ],
      "execution_count": null,
      "outputs": []
    },
    {
      "cell_type": "code",
      "metadata": {
        "id": "M1sDq8Av-5iJ"
      },
      "source": [
        "d2019 = {'county_name': ['New York','Kings','Bronx','Richmond','Queens'],\n",
        "         'Year':[2019,2019,2019,2019,2019],\n",
        "         'Pop_25_44_2019': [595749,828246,407631,123892,666351],\n",
        "         'county_pop_2019': [1628706,2559903,1418207,476143,2253858],\n",
        "         'receive_lunch_aid2019':[108039, 231919,183034,34637,196515]}\n",
        "df_pop2019 = pd.DataFrame(data=d2019)\n",
        "df_p2019c = pd.merge(df_pop2019, NYCrank, on=['county_name','Year'])\n",
        "\n",
        "df_p2019c['Total_some_college'] = df_p2019c['%some_college']*df_p2019c['Pop_25_44_2019']/100\n",
        "df_p2019c['Total_food_insecure'] = df_p2019c['%food_insecure']*df_p2019c['county_pop_2019']/100\n",
        "df_p2019c['Total_lunch_aid'] = df_p2019c['%lunch_aid']*df_p2019c['receive_lunch_aid2019']/100\n",
        "df_p2019c = df_p2019c.iloc[: , [2,3,4,7,10,11,12,13]]\n",
        "df_p2019c.loc['Total2019']= df_p2019c.sum()\n",
        "df_p2019c['county_name'] = \"New York City\"\n",
        "df_p2019c['Year'] = 2019\n",
        "df_p2019c.reset_index()\n",
        "df_p2019c = df_p2019c.drop(labels=[0,1,2,3,4], axis=0)\n",
        "\n",
        "\n",
        "df_p2019c['%food_insecure'] = df_p2019c['Total_food_insecure'] /df_p2019c['county_pop_2019']\n",
        "df_p2019c['%lunch_aid'] = df_p2019c['Total_lunch_aid'] /df_p2019c['receive_lunch_aid2019']\n",
        "df_p2019c['%some_college'] = df_p2019c['Total_some_college'] /df_p2019c['Pop_25_44_2019']"
      ],
      "execution_count": null,
      "outputs": []
    },
    {
      "cell_type": "code",
      "metadata": {
        "id": "SHq-3HdM-0Lv"
      },
      "source": [
        "d2018 = {'county_name': ['New York','Kings','Bronx','Richmond','Queens'],\n",
        "         'Year':[2018,2018,2018,2018,2018],\n",
        "         'Pop_25_44_2018': [597226,411292,834877,124205,679580],\n",
        "         'county_pop_2018': [1628701,2582830,1432132,476179,2278906],\n",
        "         'receive_lunch_aid2018':[110472, 238173,187293,34905,204916]}\n",
        "df_pop2018 = pd.DataFrame(data=d2018)\n",
        "df_p2018c = pd.merge(df_pop2018, NYCrank, on=['county_name','Year'])\n",
        "\n",
        "\n",
        "df_p2018c['Total_some_college'] = df_p2018c['%some_college']*df_p2018c['Pop_25_44_2018']/100\n",
        "df_p2018c['Total_food_insecure'] = df_p2018c['%food_insecure']*df_p2018c['county_pop_2018']/100\n",
        "df_p2018c['Total_lunch_aid'] = df_p2018c['%lunch_aid']*df_p2018c['receive_lunch_aid2018']/100\n",
        "df_p2018c = df_p2018c.iloc[: , [2,3,4,7,10,11,12,13]]\n",
        "df_p2018c.loc['Total2018']= df_p2018c.sum()\n",
        "df_p2018c['county_name'] = \"New York City\"\n",
        "df_p2018c['Year'] = 2018\n",
        "df_p2018c.reset_index()\n",
        "df_p2018c = df_p2018c.drop(labels=[0,1,2,3,4], axis=0)\n",
        "\n",
        "df_p2018c['%food_insecure'] = df_p2018c['Total_food_insecure'] /df_p2018c['county_pop_2018']*100\n",
        "df_p2018c['%lunch_aid'] = df_p2018c['Total_lunch_aid'] /df_p2018c['receive_lunch_aid2018']*100\n",
        "df_p2018c['%some_college'] = df_p2018c['Total_some_college'] /df_p2018c['Pop_25_44_2018']*100\n"
      ],
      "execution_count": null,
      "outputs": []
    },
    {
      "cell_type": "code",
      "metadata": {
        "id": "mV3a6ZLX--_V"
      },
      "source": [
        "df_nyc = pd.concat([df_p2018c, df_p2019c]).reset_index()\n",
        "df_nyc = df_nyc.iloc[: , [9,10,11,12,13,4,5]]\n",
        "df_nyc['graduation_rate'] = 'NaN'\n",
        "df_nyc = df_nyc.iloc[: , [0,1,2,3,5,7,4,6]]"
      ],
      "execution_count": null,
      "outputs": []
    },
    {
      "cell_type": "code",
      "metadata": {
        "id": "GHgDfic_SEjC"
      },
      "source": [
        "#sort by year and county, name, reset index\n",
        "df_rank_combine = df_rank_combine.sort_values(['Year','county_name'],ascending = (True,True))\n",
        "\n",
        "#reset index and drop existing index\n",
        "df_rank_combine = df_rank_combine.reset_index(drop=True)\n",
        "\n",
        "#remove the NYC counties\n",
        "df_rank_final = df_rank_combine.drop(labels=[2,23,30,40,42,64,85,92,102,104], axis=0)\n",
        "\n",
        "\n",
        "#merge on county_name and Year\n",
        "df_final2 = pd.concat([df_rank_final, df_nyc]).reset_index()\n",
        "\n",
        "\n",
        "#sort by year and county, name, reset index\n",
        "df_final2 = df_final2.sort_values(['Year','county_name'],ascending = (True,True))\n",
        "\n",
        "#reset index and drop existing index\n",
        "df_final2 = df_final2.reset_index(drop=True)\n",
        "df_final2.drop('index', axis=1, inplace=True) #--->(124,10) dataframe (2 years x 58 NYcounties=124)\n",
        "\n",
        "#Combine Finacail aid and rank data, merge on county_name and Year\n",
        "df_final = pd.merge(df_copy2019, df_final2, on=['county_name','Year'])\n",
        "\n",
        "#sort by year and county, name, reset index\n",
        "df_final = df_final.sort_values(['Year','county_name'],ascending = (True,True))\n",
        "\n",
        "#reset index and drop existing index\n",
        "df_final = df_final.reset_index(drop=True)\n"
      ],
      "execution_count": null,
      "outputs": []
    },
    {
      "cell_type": "code",
      "metadata": {
        "colab": {
          "base_uri": "https://localhost:8080/"
        },
        "id": "Et-5rFP2vU-Q",
        "outputId": "0139471f-07e5-4709-c03b-13b24e245bf4"
      },
      "source": [
        "df_final.info() #(116,8)----->#58counties X 2 years"
      ],
      "execution_count": null,
      "outputs": [
        {
          "output_type": "stream",
          "text": [
            "<class 'pandas.core.frame.DataFrame'>\n",
            "RangeIndex: 116 entries, 0 to 115\n",
            "Data columns (total 10 columns):\n",
            " #   Column                 Non-Null Count  Dtype         \n",
            "---  ------                 --------------  -----         \n",
            " 0   county_name            116 non-null    object        \n",
            " 1   Beginning Fiscal Year  116 non-null    datetime64[ns]\n",
            " 2   Amount of Aid          116 non-null    float64       \n",
            " 3   Year                   116 non-null    int64         \n",
            " 4   %food_insecure         116 non-null    float64       \n",
            " 5   %lunch_aid             116 non-null    float64       \n",
            " 6   graduation_cohort      116 non-null    float64       \n",
            " 7   graduation_rate        116 non-null    object        \n",
            " 8   %some_college          116 non-null    float64       \n",
            " 9   household_income       116 non-null    float64       \n",
            "dtypes: datetime64[ns](1), float64(6), int64(1), object(2)\n",
            "memory usage: 9.2+ KB\n"
          ],
          "name": "stdout"
        }
      ]
    },
    {
      "cell_type": "code",
      "metadata": {
        "colab": {
          "base_uri": "https://localhost:8080/",
          "height": 204
        },
        "id": "QRq0JHzHviLw",
        "outputId": "cc9e5005-c94d-49e9-d6d3-e96501f477ad"
      },
      "source": [
        "df_final.head(5)"
      ],
      "execution_count": null,
      "outputs": [
        {
          "output_type": "execute_result",
          "data": {
            "text/html": [
              "<div>\n",
              "<style scoped>\n",
              "    .dataframe tbody tr th:only-of-type {\n",
              "        vertical-align: middle;\n",
              "    }\n",
              "\n",
              "    .dataframe tbody tr th {\n",
              "        vertical-align: top;\n",
              "    }\n",
              "\n",
              "    .dataframe thead th {\n",
              "        text-align: right;\n",
              "    }\n",
              "</style>\n",
              "<table border=\"1\" class=\"dataframe\">\n",
              "  <thead>\n",
              "    <tr style=\"text-align: right;\">\n",
              "      <th></th>\n",
              "      <th>county_name</th>\n",
              "      <th>Beginning Fiscal Year</th>\n",
              "      <th>Amount of Aid</th>\n",
              "      <th>Year</th>\n",
              "      <th>%food_insecure</th>\n",
              "      <th>%lunch_aid</th>\n",
              "      <th>graduation_cohort</th>\n",
              "      <th>graduation_rate</th>\n",
              "      <th>%some_college</th>\n",
              "      <th>household_income</th>\n",
              "    </tr>\n",
              "  </thead>\n",
              "  <tbody>\n",
              "    <tr>\n",
              "      <th>0</th>\n",
              "      <td>Albany</td>\n",
              "      <td>2018-01-01</td>\n",
              "      <td>43828381.49</td>\n",
              "      <td>2018</td>\n",
              "      <td>12.2</td>\n",
              "      <td>35.448380</td>\n",
              "      <td>3014.0</td>\n",
              "      <td>84.4061</td>\n",
              "      <td>76.604723</td>\n",
              "      <td>65659.0</td>\n",
              "    </tr>\n",
              "    <tr>\n",
              "      <th>1</th>\n",
              "      <td>Allegany</td>\n",
              "      <td>2018-01-01</td>\n",
              "      <td>12114969.12</td>\n",
              "      <td>2018</td>\n",
              "      <td>12.4</td>\n",
              "      <td>55.555556</td>\n",
              "      <td>502.0</td>\n",
              "      <td>87.8486</td>\n",
              "      <td>59.542065</td>\n",
              "      <td>46491.0</td>\n",
              "    </tr>\n",
              "    <tr>\n",
              "      <th>2</th>\n",
              "      <td>Broome</td>\n",
              "      <td>2018-01-01</td>\n",
              "      <td>40800060.82</td>\n",
              "      <td>2018</td>\n",
              "      <td>13.0</td>\n",
              "      <td>52.820043</td>\n",
              "      <td>2205.0</td>\n",
              "      <td>82.9478</td>\n",
              "      <td>66.510187</td>\n",
              "      <td>47910.0</td>\n",
              "    </tr>\n",
              "    <tr>\n",
              "      <th>3</th>\n",
              "      <td>Cattaraugus</td>\n",
              "      <td>2018-01-01</td>\n",
              "      <td>21253961.21</td>\n",
              "      <td>2018</td>\n",
              "      <td>12.5</td>\n",
              "      <td>52.949158</td>\n",
              "      <td>1041.0</td>\n",
              "      <td>85.0144</td>\n",
              "      <td>55.056312</td>\n",
              "      <td>47875.0</td>\n",
              "    </tr>\n",
              "    <tr>\n",
              "      <th>4</th>\n",
              "      <td>Cayuga</td>\n",
              "      <td>2018-01-01</td>\n",
              "      <td>13858754.34</td>\n",
              "      <td>2018</td>\n",
              "      <td>10.6</td>\n",
              "      <td>47.259490</td>\n",
              "      <td>762.0</td>\n",
              "      <td>83.0709</td>\n",
              "      <td>60.276255</td>\n",
              "      <td>55460.0</td>\n",
              "    </tr>\n",
              "  </tbody>\n",
              "</table>\n",
              "</div>"
            ],
            "text/plain": [
              "   county_name Beginning Fiscal Year  ...  %some_college  household_income\n",
              "0       Albany            2018-01-01  ...      76.604723           65659.0\n",
              "1     Allegany            2018-01-01  ...      59.542065           46491.0\n",
              "2       Broome            2018-01-01  ...      66.510187           47910.0\n",
              "3  Cattaraugus            2018-01-01  ...      55.056312           47875.0\n",
              "4       Cayuga            2018-01-01  ...      60.276255           55460.0\n",
              "\n",
              "[5 rows x 10 columns]"
            ]
          },
          "metadata": {
            "tags": []
          },
          "execution_count": 25
        }
      ]
    },
    {
      "cell_type": "markdown",
      "metadata": {
        "id": "efYUVL4P2U5z"
      },
      "source": [
        "df_copy has your original data. \n",
        "df_copy2019 has your original data with beginning year 2018 and 2019 only. \n",
        "df_final has your data and Laurynes combined but only for 2018/2019. Her NYC countines (Kings, Queens, New York, Bronx and Richmond) were combined to be able to merge with your data. The data use is buried in one of the cells above for reference."
      ]
    },
    {
      "cell_type": "markdown",
      "metadata": {
        "id": "unF5T3NfvG_I"
      },
      "source": [
        "The years are 2018 and 2019. Consider labeling 2018/2019 and 2019/2020. \n",
        "Data is limited for 2020 so I wouldn't discuss the COVID angle (covid quarantine started ~3/2020) since the data timeframe does not capture this time period. Can comment on seeing the \"beginning\" of a relationship but need more data.\n",
        "As we discussed focus on financial aid/food insecurity and FA/education:\n",
        "1)show line graphof FA to show trends over many years as an inrroduction but focus on 2018 and 2019.\n",
        "2)barplots to show distribtjin of FA over time\n",
        "3)check correlations. if see signal graph. \n",
        "4) Can seperate out 'New York City' data and analyze seperately.\n",
        "5)graph FA vs household income to see if the money is going where needed.\n",
        "6) graph amount of Aid vs %food insecure\n",
        "7)graph amount of Aid vs %lunch aid\n",
        "8) FA vs graduation rate\n",
        "9) %food_insecure vs household income or \n",
        "10) any other graphs you think woud be interesting\n"
      ]
    },
    {
      "cell_type": "code",
      "metadata": {
        "id": "BinjwekBZepE"
      },
      "source": [
        "#prints list of number of times element appears in column\n",
        "#df_countynum = df.groupby('County').size().reset_index(name='count')\n",
        "#print (df_countynum)\n",
        "\n",
        "#temporaly display 999 rows\n",
        "#with pd.option_context('display.max_rows', 999):\n",
        "#    print (df_new2)\n",
        "\n",
        "#county_list = df['County'].nunique() #----->58\n",
        "#county_list = df['County'].unique() #---->numpy.ndarray\n",
        "#county_list = df['County'].unique().tolist #---->builtin_function_or_method\n",
        "#county_list = pd.Series(df['County'].unique()) #---->pandas.core.series.Series\n",
        "#type(county_list4)"
      ],
      "execution_count": null,
      "outputs": []
    },
    {
      "cell_type": "code",
      "metadata": {
        "id": "SoEEr_osyig5"
      },
      "source": [
        " #display 10 rows\n",
        "pd.set_option('display.max_rows', df.shape[0]+1)"
      ],
      "execution_count": null,
      "outputs": []
    },
    {
      "cell_type": "code",
      "metadata": {
        "id": "JC0B5Z_rFkf6"
      },
      "source": [
        "#remove commas from amount of aid column\n",
        "df['Amount of Aid'] = df[' Amount of Aid '].str.replace(',','')\n",
        "#convert amount of aid to float\n",
        "df['Amount of Aid'] = df['Amount of Aid'].astype(float)\n",
        "#get rid of ' amount of aid ' column\n",
        "df.drop([' Amount of Aid '], axis=1, inplace=True)"
      ],
      "execution_count": null,
      "outputs": []
    },
    {
      "cell_type": "code",
      "metadata": {
        "id": "lmErtT8SF5sd"
      },
      "source": [
        "#change years from int to str/object\n",
        "df['Beginning Fiscal Year'] = df['Beginning Fiscal Year'].astype('str')\n",
        "df['Ending Fiscal Year'] = df['Ending Fiscal Year'].astype('str')"
      ],
      "execution_count": null,
      "outputs": []
    },
    {
      "cell_type": "code",
      "metadata": {
        "id": "Nehn6wG5edk9"
      },
      "source": [
        "df"
      ],
      "execution_count": null,
      "outputs": []
    },
    {
      "cell_type": "code",
      "metadata": {
        "id": "kbyoKA-_-HrQ"
      },
      "source": [
        "#starting at 2011\n",
        "df_starting_2011 = df\n",
        "df_starting_2011 = df_starting_2011.drop(df.index[range(6154)])\n",
        "df_starting_2011"
      ],
      "execution_count": null,
      "outputs": []
    },
    {
      "cell_type": "code",
      "metadata": {
        "id": "UrJ4lJ4-8arS"
      },
      "source": [
        "#starting at 2017\n",
        "df_starting_2017 = df\n",
        "df_starting_2017 = df_starting_2017.drop(df.index[range(10233)])\n",
        "df_starting_2017"
      ],
      "execution_count": null,
      "outputs": []
    },
    {
      "cell_type": "code",
      "metadata": {
        "id": "-0DmavsmEYGC"
      },
      "source": [
        "#starting at 2018\n",
        "df_starting_2018 = df\n",
        "df_starting_2018 = df_starting_2018.drop(df.index[range(10912)])\n",
        "#2018-2019\n",
        "df_2018_to_2019 = df_starting_2018.drop(df_starting_2018.index[-681:])\n",
        "df_2018_to_2019\n"
      ],
      "execution_count": null,
      "outputs": []
    },
    {
      "cell_type": "code",
      "metadata": {
        "id": "xkiMiv4x3Uae"
      },
      "source": [
        "#2019-2020\n",
        "df_2019_to_2020 = df\n",
        "df_2019_to_2020 = df_2019_to_2020.drop(df.index[range(11591)])\n",
        "df_2019_to_2020"
      ],
      "execution_count": null,
      "outputs": []
    },
    {
      "cell_type": "code",
      "metadata": {
        "id": "_79Ffo1pLWTx"
      },
      "source": [
        "#2018-2020 for tableau\n",
        "df_starting_2018 = df\n",
        "df_starting_2018 = df_starting_2018.drop(df.index[range(10912)])\n",
        "df_starting_2018"
      ],
      "execution_count": null,
      "outputs": []
    },
    {
      "cell_type": "code",
      "metadata": {
        "id": "dxBI-NNT-iEt"
      },
      "source": [
        "from google.colab import files\n",
        "\n",
        "df_starting_2011.to_csv('df_starting_2011.csv')\n",
        "files.download('df_starting_2011.csv')"
      ],
      "execution_count": null,
      "outputs": []
    },
    {
      "cell_type": "code",
      "metadata": {
        "id": "I7dQKVBg9SnN"
      },
      "source": [
        "from google.colab import files\n",
        "\n",
        "df_starting_2017.to_csv('df_starting_2017.csv')\n",
        "files.download('df_starting_2017.csv')"
      ],
      "execution_count": null,
      "outputs": []
    },
    {
      "cell_type": "code",
      "metadata": {
        "id": "FB4zSZL1Lwk4"
      },
      "source": [
        "from google.colab import files\n",
        "\n",
        "df_starting_2018.to_csv('df_starting_2018.csv')\n",
        "files.download('df_starting_2018.csv')"
      ],
      "execution_count": null,
      "outputs": []
    },
    {
      "cell_type": "code",
      "metadata": {
        "id": "EOCWoVbHgpU3"
      },
      "source": [
        "#Export/download df_2018_to_2019 dataframe as csv file\n",
        "from google.colab import files\n",
        "\n",
        "df_2018_to_2019.to_csv('df_2018_to_2019.csv')\n",
        "files.download('df_2018_to_2019.csv')"
      ],
      "execution_count": null,
      "outputs": []
    },
    {
      "cell_type": "code",
      "metadata": {
        "id": "0XyNt-EQielD"
      },
      "source": [
        "#Export/download df_2019_to_2020 dataframe as csv file\n",
        "from google.colab import files\n",
        "\n",
        "df_2019_to_2020.to_csv('df_2019_to_2020.csv')\n",
        "files.download('df_2019_to_2020.csv')"
      ],
      "execution_count": null,
      "outputs": []
    },
    {
      "cell_type": "code",
      "metadata": {
        "colab": {
          "base_uri": "https://localhost:8080/",
          "height": 17
        },
        "id": "bpE5KBjasSse",
        "outputId": "b9a0610a-136d-43e7-c7c4-9c4b77a65f29"
      },
      "source": [
        "from google.colab import files\n",
        "\n",
        "df_final.to_csv('df_final.csv')\n",
        "files.download('df_final.csv')"
      ],
      "execution_count": null,
      "outputs": [
        {
          "output_type": "display_data",
          "data": {
            "application/javascript": [
              "\n",
              "    async function download(id, filename, size) {\n",
              "      if (!google.colab.kernel.accessAllowed) {\n",
              "        return;\n",
              "      }\n",
              "      const div = document.createElement('div');\n",
              "      const label = document.createElement('label');\n",
              "      label.textContent = `Downloading \"${filename}\": `;\n",
              "      div.appendChild(label);\n",
              "      const progress = document.createElement('progress');\n",
              "      progress.max = size;\n",
              "      div.appendChild(progress);\n",
              "      document.body.appendChild(div);\n",
              "\n",
              "      const buffers = [];\n",
              "      let downloaded = 0;\n",
              "\n",
              "      const channel = await google.colab.kernel.comms.open(id);\n",
              "      // Send a message to notify the kernel that we're ready.\n",
              "      channel.send({})\n",
              "\n",
              "      for await (const message of channel.messages) {\n",
              "        // Send a message to notify the kernel that we're ready.\n",
              "        channel.send({})\n",
              "        if (message.buffers) {\n",
              "          for (const buffer of message.buffers) {\n",
              "            buffers.push(buffer);\n",
              "            downloaded += buffer.byteLength;\n",
              "            progress.value = downloaded;\n",
              "          }\n",
              "        }\n",
              "      }\n",
              "      const blob = new Blob(buffers, {type: 'application/binary'});\n",
              "      const a = document.createElement('a');\n",
              "      a.href = window.URL.createObjectURL(blob);\n",
              "      a.download = filename;\n",
              "      div.appendChild(a);\n",
              "      a.click();\n",
              "      div.remove();\n",
              "    }\n",
              "  "
            ],
            "text/plain": [
              "<IPython.core.display.Javascript object>"
            ]
          },
          "metadata": {
            "tags": []
          }
        },
        {
          "output_type": "display_data",
          "data": {
            "application/javascript": [
              "download(\"download_c5229040-2dc1-4f8e-adb1-9baf595ffb3f\", \"df_final.csv\", 12363)"
            ],
            "text/plain": [
              "<IPython.core.display.Javascript object>"
            ]
          },
          "metadata": {
            "tags": []
          }
        }
      ]
    },
    {
      "cell_type": "markdown",
      "metadata": {
        "id": "RCzuD8UUY8gS"
      },
      "source": [
        "# Lauryne's data sets"
      ]
    },
    {
      "cell_type": "code",
      "metadata": {
        "id": "SNqwgRgvY3VL",
        "colab": {
          "resources": {
            "http://localhost:8080/nbextensions/google.colab/files.js": {
              "data": "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",
              "ok": true,
              "headers": [
                [
                  "content-type",
                  "application/javascript"
                ]
              ],
              "status": 200,
              "status_text": ""
            }
          },
          "base_uri": "https://localhost:8080/",
          "height": 72
        },
        "outputId": "f9f77df3-33bb-43f7-dd05-fee45e2525ec"
      },
      "source": [
        "from google.colab import files\n",
        "uploaded = files.upload()"
      ],
      "execution_count": null,
      "outputs": [
        {
          "output_type": "display_data",
          "data": {
            "text/html": [
              "\n",
              "     <input type=\"file\" id=\"files-e5fea11b-2c00-4da1-a13c-c97525e6785b\" name=\"files[]\" multiple disabled\n",
              "        style=\"border:none\" />\n",
              "     <output id=\"result-e5fea11b-2c00-4da1-a13c-c97525e6785b\">\n",
              "      Upload widget is only available when the cell has been executed in the\n",
              "      current browser session. Please rerun this cell to enable.\n",
              "      </output>\n",
              "      <script src=\"/nbextensions/google.colab/files.js\"></script> "
            ],
            "text/plain": [
              "<IPython.core.display.HTML object>"
            ]
          },
          "metadata": {
            "tags": []
          }
        },
        {
          "output_type": "stream",
          "text": [
            "Saving rank2019.csv to rank2019.csv\n"
          ],
          "name": "stdout"
        }
      ]
    },
    {
      "cell_type": "code",
      "metadata": {
        "id": "3LfsbagqZ-4K",
        "colab": {
          "base_uri": "https://localhost:8080/",
          "height": 609
        },
        "outputId": "65cb0e2a-ed8c-4e6d-c06d-da60179f94d9"
      },
      "source": [
        "df_rank_2019 = pd.read_csv(\"rank2019.csv\")\n",
        "df_rank_2019"
      ],
      "execution_count": null,
      "outputs": [
        {
          "output_type": "execute_result",
          "data": {
            "text/html": [
              "<div>\n",
              "<style scoped>\n",
              "    .dataframe tbody tr th:only-of-type {\n",
              "        vertical-align: middle;\n",
              "    }\n",
              "\n",
              "    .dataframe tbody tr th {\n",
              "        vertical-align: top;\n",
              "    }\n",
              "\n",
              "    .dataframe thead th {\n",
              "        text-align: right;\n",
              "    }\n",
              "</style>\n",
              "<table border=\"1\" class=\"dataframe\">\n",
              "  <thead>\n",
              "    <tr style=\"text-align: right;\">\n",
              "      <th></th>\n",
              "      <th>fips</th>\n",
              "      <th>state</th>\n",
              "      <th>county_name</th>\n",
              "      <th>health_outcomes_r</th>\n",
              "      <th>health_factors_r</th>\n",
              "      <th>length_life_r</th>\n",
              "      <th>quality_life_r</th>\n",
              "      <th>yppl</th>\n",
              "      <th>%poor_fair_health</th>\n",
              "      <th>%adult_obesity</th>\n",
              "      <th>food_environment_index</th>\n",
              "      <th>graduation_cohort</th>\n",
              "      <th>graduation_rate</th>\n",
              "      <th>%some_college</th>\n",
              "      <th>life_expectancy</th>\n",
              "      <th>%diabetes</th>\n",
              "      <th>%food_insecure</th>\n",
              "      <th>%limited_access</th>\n",
              "      <th>household_income</th>\n",
              "      <th>%lunch_aid</th>\n",
              "      <th>%african_american</th>\n",
              "      <th>%american_indian</th>\n",
              "      <th>%asian</th>\n",
              "      <th>%pacific_islander</th>\n",
              "      <th>%hispanic</th>\n",
              "      <th>%white</th>\n",
              "    </tr>\n",
              "  </thead>\n",
              "  <tbody>\n",
              "    <tr>\n",
              "      <th>0</th>\n",
              "      <td>36087</td>\n",
              "      <td>New York</td>\n",
              "      <td>Rockland</td>\n",
              "      <td>1</td>\n",
              "      <td>6</td>\n",
              "      <td>3</td>\n",
              "      <td>3</td>\n",
              "      <td>4272.900333</td>\n",
              "      <td>14.089078</td>\n",
              "      <td>23.7</td>\n",
              "      <td>8.8</td>\n",
              "      <td>3248</td>\n",
              "      <td>84.544335</td>\n",
              "      <td>63.805615</td>\n",
              "      <td>83.312875</td>\n",
              "      <td>8.8</td>\n",
              "      <td>9.2</td>\n",
              "      <td>3.337587</td>\n",
              "      <td>87873</td>\n",
              "      <td>37.106402</td>\n",
              "      <td>11.477857</td>\n",
              "      <td>0.525135</td>\n",
              "      <td>6.495311</td>\n",
              "      <td>0.135921</td>\n",
              "      <td>17.967391</td>\n",
              "      <td>62.692022</td>\n",
              "    </tr>\n",
              "    <tr>\n",
              "      <th>1</th>\n",
              "      <td>36059</td>\n",
              "      <td>New York</td>\n",
              "      <td>Nassau</td>\n",
              "      <td>2</td>\n",
              "      <td>1</td>\n",
              "      <td>5</td>\n",
              "      <td>13</td>\n",
              "      <td>4300.055841</td>\n",
              "      <td>12.252958</td>\n",
              "      <td>23.2</td>\n",
              "      <td>9.7</td>\n",
              "      <td>16554</td>\n",
              "      <td>90.769603</td>\n",
              "      <td>74.845911</td>\n",
              "      <td>82.827126</td>\n",
              "      <td>8.5</td>\n",
              "      <td>5.6</td>\n",
              "      <td>0.468288</td>\n",
              "      <td>107465</td>\n",
              "      <td>28.178347</td>\n",
              "      <td>11.560597</td>\n",
              "      <td>0.532890</td>\n",
              "      <td>10.133595</td>\n",
              "      <td>0.095362</td>\n",
              "      <td>17.150610</td>\n",
              "      <td>59.851451</td>\n",
              "    </tr>\n",
              "    <tr>\n",
              "      <th>2</th>\n",
              "      <td>36119</td>\n",
              "      <td>New York</td>\n",
              "      <td>Westchester</td>\n",
              "      <td>3</td>\n",
              "      <td>4</td>\n",
              "      <td>2</td>\n",
              "      <td>19</td>\n",
              "      <td>4144.305550</td>\n",
              "      <td>14.281145</td>\n",
              "      <td>20.7</td>\n",
              "      <td>9.2</td>\n",
              "      <td>11163</td>\n",
              "      <td>89.554779</td>\n",
              "      <td>71.819318</td>\n",
              "      <td>83.525185</td>\n",
              "      <td>7.9</td>\n",
              "      <td>7.7</td>\n",
              "      <td>1.379185</td>\n",
              "      <td>90483</td>\n",
              "      <td>36.438612</td>\n",
              "      <td>13.732703</td>\n",
              "      <td>0.950172</td>\n",
              "      <td>6.528477</td>\n",
              "      <td>0.126805</td>\n",
              "      <td>24.863197</td>\n",
              "      <td>53.383545</td>\n",
              "    </tr>\n",
              "    <tr>\n",
              "      <th>3</th>\n",
              "      <td>36091</td>\n",
              "      <td>New York</td>\n",
              "      <td>Saratoga</td>\n",
              "      <td>4</td>\n",
              "      <td>2</td>\n",
              "      <td>6</td>\n",
              "      <td>4</td>\n",
              "      <td>4906.755021</td>\n",
              "      <td>11.160446</td>\n",
              "      <td>26.4</td>\n",
              "      <td>8.9</td>\n",
              "      <td>2742</td>\n",
              "      <td>90.919037</td>\n",
              "      <td>77.947014</td>\n",
              "      <td>80.920521</td>\n",
              "      <td>9.3</td>\n",
              "      <td>7.9</td>\n",
              "      <td>3.984430</td>\n",
              "      <td>82732</td>\n",
              "      <td>22.913952</td>\n",
              "      <td>1.694443</td>\n",
              "      <td>0.232306</td>\n",
              "      <td>2.949941</td>\n",
              "      <td>0.050899</td>\n",
              "      <td>3.230971</td>\n",
              "      <td>90.299692</td>\n",
              "    </tr>\n",
              "    <tr>\n",
              "      <th>4</th>\n",
              "      <td>36061</td>\n",
              "      <td>New York</td>\n",
              "      <td>New York</td>\n",
              "      <td>5</td>\n",
              "      <td>12</td>\n",
              "      <td>1</td>\n",
              "      <td>30</td>\n",
              "      <td>3984.712120</td>\n",
              "      <td>14.532237</td>\n",
              "      <td>15.8</td>\n",
              "      <td>8.3</td>\n",
              "      <td>16235</td>\n",
              "      <td>74.536495</td>\n",
              "      <td>83.735332</td>\n",
              "      <td>84.516308</td>\n",
              "      <td>7.0</td>\n",
              "      <td>13.3</td>\n",
              "      <td>0.000000</td>\n",
              "      <td>84133</td>\n",
              "      <td>64.594362</td>\n",
              "      <td>12.372359</td>\n",
              "      <td>1.183858</td>\n",
              "      <td>12.983210</td>\n",
              "      <td>0.182432</td>\n",
              "      <td>26.130531</td>\n",
              "      <td>46.677563</td>\n",
              "    </tr>\n",
              "    <tr>\n",
              "      <th>...</th>\n",
              "      <td>...</td>\n",
              "      <td>...</td>\n",
              "      <td>...</td>\n",
              "      <td>...</td>\n",
              "      <td>...</td>\n",
              "      <td>...</td>\n",
              "      <td>...</td>\n",
              "      <td>...</td>\n",
              "      <td>...</td>\n",
              "      <td>...</td>\n",
              "      <td>...</td>\n",
              "      <td>...</td>\n",
              "      <td>...</td>\n",
              "      <td>...</td>\n",
              "      <td>...</td>\n",
              "      <td>...</td>\n",
              "      <td>...</td>\n",
              "      <td>...</td>\n",
              "      <td>...</td>\n",
              "      <td>...</td>\n",
              "      <td>...</td>\n",
              "      <td>...</td>\n",
              "      <td>...</td>\n",
              "      <td>...</td>\n",
              "      <td>...</td>\n",
              "      <td>...</td>\n",
              "    </tr>\n",
              "    <tr>\n",
              "      <th>57</th>\n",
              "      <td>36063</td>\n",
              "      <td>New York</td>\n",
              "      <td>Niagara</td>\n",
              "      <td>58</td>\n",
              "      <td>52</td>\n",
              "      <td>61</td>\n",
              "      <td>59</td>\n",
              "      <td>7710.310077</td>\n",
              "      <td>15.846324</td>\n",
              "      <td>33.3</td>\n",
              "      <td>8.2</td>\n",
              "      <td>2431</td>\n",
              "      <td>84.821061</td>\n",
              "      <td>67.137244</td>\n",
              "      <td>77.627084</td>\n",
              "      <td>12.2</td>\n",
              "      <td>12.0</td>\n",
              "      <td>4.237825</td>\n",
              "      <td>54317</td>\n",
              "      <td>48.095221</td>\n",
              "      <td>7.010429</td>\n",
              "      <td>1.136149</td>\n",
              "      <td>1.135675</td>\n",
              "      <td>0.041168</td>\n",
              "      <td>2.946131</td>\n",
              "      <td>85.537648</td>\n",
              "    </tr>\n",
              "    <tr>\n",
              "      <th>58</th>\n",
              "      <td>36013</td>\n",
              "      <td>New York</td>\n",
              "      <td>Chautauqua</td>\n",
              "      <td>59</td>\n",
              "      <td>55</td>\n",
              "      <td>62</td>\n",
              "      <td>56</td>\n",
              "      <td>8008.553112</td>\n",
              "      <td>18.089410</td>\n",
              "      <td>33.1</td>\n",
              "      <td>7.9</td>\n",
              "      <td>1521</td>\n",
              "      <td>83.497699</td>\n",
              "      <td>58.008628</td>\n",
              "      <td>77.461471</td>\n",
              "      <td>11.7</td>\n",
              "      <td>12.4</td>\n",
              "      <td>6.750473</td>\n",
              "      <td>45840</td>\n",
              "      <td>53.865533</td>\n",
              "      <td>2.144972</td>\n",
              "      <td>0.727648</td>\n",
              "      <td>0.700525</td>\n",
              "      <td>0.050370</td>\n",
              "      <td>7.566294</td>\n",
              "      <td>87.382794</td>\n",
              "    </tr>\n",
              "    <tr>\n",
              "      <th>59</th>\n",
              "      <td>36009</td>\n",
              "      <td>New York</td>\n",
              "      <td>Cattaraugus</td>\n",
              "      <td>60</td>\n",
              "      <td>61</td>\n",
              "      <td>54</td>\n",
              "      <td>61</td>\n",
              "      <td>7397.155204</td>\n",
              "      <td>18.529141</td>\n",
              "      <td>36.5</td>\n",
              "      <td>8.2</td>\n",
              "      <td>1041</td>\n",
              "      <td>85.014409</td>\n",
              "      <td>55.056312</td>\n",
              "      <td>77.761956</td>\n",
              "      <td>12.8</td>\n",
              "      <td>12.5</td>\n",
              "      <td>2.583937</td>\n",
              "      <td>47875</td>\n",
              "      <td>52.949158</td>\n",
              "      <td>1.450587</td>\n",
              "      <td>3.471324</td>\n",
              "      <td>0.840358</td>\n",
              "      <td>0.031029</td>\n",
              "      <td>2.089259</td>\n",
              "      <td>90.498785</td>\n",
              "    </tr>\n",
              "    <tr>\n",
              "      <th>60</th>\n",
              "      <td>36105</td>\n",
              "      <td>New York</td>\n",
              "      <td>Sullivan</td>\n",
              "      <td>61</td>\n",
              "      <td>50</td>\n",
              "      <td>60</td>\n",
              "      <td>60</td>\n",
              "      <td>7685.394052</td>\n",
              "      <td>19.036735</td>\n",
              "      <td>32.4</td>\n",
              "      <td>8.3</td>\n",
              "      <td>742</td>\n",
              "      <td>78.436658</td>\n",
              "      <td>54.399772</td>\n",
              "      <td>78.136145</td>\n",
              "      <td>11.3</td>\n",
              "      <td>11.0</td>\n",
              "      <td>4.669431</td>\n",
              "      <td>52504</td>\n",
              "      <td>57.680945</td>\n",
              "      <td>8.167186</td>\n",
              "      <td>0.703451</td>\n",
              "      <td>1.691727</td>\n",
              "      <td>0.079486</td>\n",
              "      <td>16.195271</td>\n",
              "      <td>71.826191</td>\n",
              "    </tr>\n",
              "    <tr>\n",
              "      <th>61</th>\n",
              "      <td>36005</td>\n",
              "      <td>New York</td>\n",
              "      <td>Bronx</td>\n",
              "      <td>62</td>\n",
              "      <td>62</td>\n",
              "      <td>35</td>\n",
              "      <td>62</td>\n",
              "      <td>6650.653237</td>\n",
              "      <td>26.837674</td>\n",
              "      <td>29.9</td>\n",
              "      <td>7.8</td>\n",
              "      <td>14750</td>\n",
              "      <td>67.511864</td>\n",
              "      <td>50.688124</td>\n",
              "      <td>80.359790</td>\n",
              "      <td>13.1</td>\n",
              "      <td>16.1</td>\n",
              "      <td>0.000920</td>\n",
              "      <td>37377</td>\n",
              "      <td>82.061762</td>\n",
              "      <td>29.349357</td>\n",
              "      <td>2.923000</td>\n",
              "      <td>4.520854</td>\n",
              "      <td>0.413347</td>\n",
              "      <td>56.158134</td>\n",
              "      <td>9.228772</td>\n",
              "    </tr>\n",
              "  </tbody>\n",
              "</table>\n",
              "<p>62 rows × 26 columns</p>\n",
              "</div>"
            ],
            "text/plain": [
              "     fips     state  county_name  ...  %pacific_islander  %hispanic     %white\n",
              "0   36087  New York     Rockland  ...           0.135921  17.967391  62.692022\n",
              "1   36059  New York       Nassau  ...           0.095362  17.150610  59.851451\n",
              "2   36119  New York  Westchester  ...           0.126805  24.863197  53.383545\n",
              "3   36091  New York     Saratoga  ...           0.050899   3.230971  90.299692\n",
              "4   36061  New York     New York  ...           0.182432  26.130531  46.677563\n",
              "..    ...       ...          ...  ...                ...        ...        ...\n",
              "57  36063  New York      Niagara  ...           0.041168   2.946131  85.537648\n",
              "58  36013  New York   Chautauqua  ...           0.050370   7.566294  87.382794\n",
              "59  36009  New York  Cattaraugus  ...           0.031029   2.089259  90.498785\n",
              "60  36105  New York     Sullivan  ...           0.079486  16.195271  71.826191\n",
              "61  36005  New York        Bronx  ...           0.413347  56.158134   9.228772\n",
              "\n",
              "[62 rows x 26 columns]"
            ]
          },
          "metadata": {
            "tags": []
          },
          "execution_count": 15
        }
      ]
    },
    {
      "cell_type": "code",
      "metadata": {
        "id": "Zgfeb2t6ZsyE",
        "colab": {
          "resources": {
            "http://localhost:8080/nbextensions/google.colab/files.js": {
              "data": "Ly8gQ29weXJpZ2h0IDIwMTcgR29vZ2xlIExMQwovLwovLyBMaWNlbnNlZCB1bmRlciB0aGUgQXBhY2hlIExpY2Vuc2UsIFZlcnNpb24gMi4wICh0aGUgIkxpY2Vuc2UiKTsKLy8geW91IG1heSBub3QgdXNlIHRoaXMgZmlsZSBleGNlcHQgaW4gY29tcGxpYW5jZSB3aXRoIHRoZSBMaWNlbnNlLgovLyBZb3UgbWF5IG9idGFpbiBhIGNvcHkgb2YgdGhlIExpY2Vuc2UgYXQKLy8KLy8gICAgICBodHRwOi8vd3d3LmFwYWNoZS5vcmcvbGljZW5zZXMvTElDRU5TRS0yLjAKLy8KLy8gVW5sZXNzIHJlcXVpcmVkIGJ5IGFwcGxpY2FibGUgbGF3IG9yIGFncmVlZCB0byBpbiB3cml0aW5nLCBzb2Z0d2FyZQovLyBkaXN0cmlidXRlZCB1bmRlciB0aGUgTGljZW5zZSBpcyBkaXN0cmlidXRlZCBvbiBhbiAiQVMgSVMiIEJBU0lTLAovLyBXSVRIT1VUIFdBUlJBTlRJRVMgT1IgQ09ORElUSU9OUyBPRiBBTlkgS0lORCwgZWl0aGVyIGV4cHJlc3Mgb3IgaW1wbGllZC4KLy8gU2VlIHRoZSBMaWNlbnNlIGZvciB0aGUgc3BlY2lmaWMgbGFuZ3VhZ2UgZ292ZXJuaW5nIHBlcm1pc3Npb25zIGFuZAovLyBsaW1pdGF0aW9ucyB1bmRlciB0aGUgTGljZW5zZS4KCi8qKgogKiBAZmlsZW92ZXJ2aWV3IEhlbHBlcnMgZm9yIGdvb2dsZS5jb2xhYiBQeXRob24gbW9kdWxlLgogKi8KKGZ1bmN0aW9uKHNjb3BlKSB7CmZ1bmN0aW9uIHNwYW4odGV4dCwgc3R5bGVBdHRyaWJ1dGVzID0ge30pIHsKICBjb25zdCBlbGVtZW50ID0gZG9jdW1lbnQuY3JlYXRlRWxlbWVudCgnc3BhbicpOwogIGVsZW1lbnQudGV4dENvbnRlbnQgPSB0ZXh0OwogIGZvciAoY29uc3Qga2V5IG9mIE9iamVjdC5rZXlzKHN0eWxlQXR0cmlidXRlcykpIHsKICAgIGVsZW1lbnQuc3R5bGVba2V5XSA9IHN0eWxlQXR0cmlidXRlc1trZXldOwogIH0KICByZXR1cm4gZWxlbWVudDsKfQoKLy8gTWF4IG51bWJlciBvZiBieXRlcyB3aGljaCB3aWxsIGJlIHVwbG9hZGVkIGF0IGEgdGltZS4KY29uc3QgTUFYX1BBWUxPQURfU0laRSA9IDEwMCAqIDEwMjQ7CgpmdW5jdGlvbiBfdXBsb2FkRmlsZXMoaW5wdXRJZCwgb3V0cHV0SWQpIHsKICBjb25zdCBzdGVwcyA9IHVwbG9hZEZpbGVzU3RlcChpbnB1dElkLCBvdXRwdXRJZCk7CiAgY29uc3Qgb3V0cHV0RWxlbWVudCA9IGRvY3VtZW50LmdldEVsZW1lbnRCeUlkKG91dHB1dElkKTsKICAvLyBDYWNoZSBzdGVwcyBvbiB0aGUgb3V0cHV0RWxlbWVudCB0byBtYWtlIGl0IGF2YWlsYWJsZSBmb3IgdGhlIG5leHQgY2FsbAogIC8vIHRvIHVwbG9hZEZpbGVzQ29udGludWUgZnJvbSBQeXRob24uCiAgb3V0cHV0RWxlbWVudC5zdGVwcyA9IHN0ZXBzOwoKICByZXR1cm4gX3VwbG9hZEZpbGVzQ29udGludWUob3V0cHV0SWQpOwp9CgovLyBUaGlzIGlzIHJvdWdobHkgYW4gYXN5bmMgZ2VuZXJhdG9yIChub3Qgc3VwcG9ydGVkIGluIHRoZSBicm93c2VyIHlldCksCi8vIHdoZXJlIHRoZXJlIGFyZSBtdWx0aXBsZSBhc3luY2hyb25vdXMgc3RlcHMgYW5kIHRoZSBQeXRob24gc2lkZSBpcyBnb2luZwovLyB0byBwb2xsIGZvciBjb21wbGV0aW9uIG9mIGVhY2ggc3RlcC4KLy8gVGhpcyB1c2VzIGEgUHJvbWlzZSB0byBibG9jayB0aGUgcHl0aG9uIHNpZGUgb24gY29tcGxldGlvbiBvZiBlYWNoIHN0ZXAsCi8vIHRoZW4gcGFzc2VzIHRoZSByZXN1bHQgb2YgdGhlIHByZXZpb3VzIHN0ZXAgYXMgdGhlIGlucHV0IHRvIHRoZSBuZXh0IHN0ZXAuCmZ1bmN0aW9uIF91cGxvYWRGaWxlc0NvbnRpbnVlKG91dHB1dElkKSB7CiAgY29uc3Qgb3V0cHV0RWxlbWVudCA9IGRvY3VtZW50LmdldEVsZW1lbnRCeUlkKG91dHB1dElkKTsKICBjb25zdCBzdGVwcyA9IG91dHB1dEVsZW1lbnQuc3RlcHM7CgogIGNvbnN0IG5leHQgPSBzdGVwcy5uZXh0KG91dHB1dEVsZW1lbnQubGFzdFByb21pc2VWYWx1ZSk7CiAgcmV0dXJuIFByb21pc2UucmVzb2x2ZShuZXh0LnZhbHVlLnByb21pc2UpLnRoZW4oKHZhbHVlKSA9PiB7CiAgICAvLyBDYWNoZSB0aGUgbGFzdCBwcm9taXNlIHZhbHVlIHRvIG1ha2UgaXQgYXZhaWxhYmxlIHRvIHRoZSBuZXh0CiAgICAvLyBzdGVwIG9mIHRoZSBnZW5lcmF0b3IuCiAgICBvdXRwdXRFbGVtZW50Lmxhc3RQcm9taXNlVmFsdWUgPSB2YWx1ZTsKICAgIHJldHVybiBuZXh0LnZhbHVlLnJlc3BvbnNlOwogIH0pOwp9CgovKioKICogR2VuZXJhdG9yIGZ1bmN0aW9uIHdoaWNoIGlzIGNhbGxlZCBiZXR3ZWVuIGVhY2ggYXN5bmMgc3RlcCBvZiB0aGUgdXBsb2FkCiAqIHByb2Nlc3MuCiAqIEBwYXJhbSB7c3RyaW5nfSBpbnB1dElkIEVsZW1lbnQgSUQgb2YgdGhlIGlucHV0IGZpbGUgcGlja2VyIGVsZW1lbnQuCiAqIEBwYXJhbSB7c3RyaW5nfSBvdXRwdXRJZCBFbGVtZW50IElEIG9mIHRoZSBvdXRwdXQgZGlzcGxheS4KICogQHJldHVybiB7IUl0ZXJhYmxlPCFPYmplY3Q+fSBJdGVyYWJsZSBvZiBuZXh0IHN0ZXBzLgogKi8KZnVuY3Rpb24qIHVwbG9hZEZpbGVzU3RlcChpbnB1dElkLCBvdXRwdXRJZCkgewogIGNvbnN0IGlucHV0RWxlbWVudCA9IGRvY3VtZW50LmdldEVsZW1lbnRCeUlkKGlucHV0SWQpOwogIGlucHV0RWxlbWVudC5kaXNhYmxlZCA9IGZhbHNlOwoKICBjb25zdCBvdXRwdXRFbGVtZW50ID0gZG9jdW1lbnQuZ2V0RWxlbWVudEJ5SWQob3V0cHV0SWQpOwogIG91dHB1dEVsZW1lbnQuaW5uZXJIVE1MID0gJyc7CgogIGNvbnN0IHBpY2tlZFByb21pc2UgPSBuZXcgUHJvbWlzZSgocmVzb2x2ZSkgPT4gewogICAgaW5wdXRFbGVtZW50LmFkZEV2ZW50TGlzdGVuZXIoJ2NoYW5nZScsIChlKSA9PiB7CiAgICAgIHJlc29sdmUoZS50YXJnZXQuZmlsZXMpOwogICAgfSk7CiAgfSk7CgogIGNvbnN0IGNhbmNlbCA9IGRvY3VtZW50LmNyZWF0ZUVsZW1lbnQoJ2J1dHRvbicpOwogIGlucHV0RWxlbWVudC5wYXJlbnRFbGVtZW50LmFwcGVuZENoaWxkKGNhbmNlbCk7CiAgY2FuY2VsLnRleHRDb250ZW50ID0gJ0NhbmNlbCB1cGxvYWQnOwogIGNvbnN0IGNhbmNlbFByb21pc2UgPSBuZXcgUHJvbWlzZSgocmVzb2x2ZSkgPT4gewogICAgY2FuY2VsLm9uY2xpY2sgPSAoKSA9PiB7CiAgICAgIHJlc29sdmUobnVsbCk7CiAgICB9OwogIH0pOwoKICAvLyBXYWl0IGZvciB0aGUgdXNlciB0byBwaWNrIHRoZSBmaWxlcy4KICBjb25zdCBmaWxlcyA9IHlpZWxkIHsKICAgIHByb21pc2U6IFByb21pc2UucmFjZShbcGlja2VkUHJvbWlzZSwgY2FuY2VsUHJvbWlzZV0pLAogICAgcmVzcG9uc2U6IHsKICAgICAgYWN0aW9uOiAnc3RhcnRpbmcnLAogICAgfQogIH07CgogIGNhbmNlbC5yZW1vdmUoKTsKCiAgLy8gRGlzYWJsZSB0aGUgaW5wdXQgZWxlbWVudCBzaW5jZSBmdXJ0aGVyIHBpY2tzIGFyZSBub3QgYWxsb3dlZC4KICBpbnB1dEVsZW1lbnQuZGlzYWJsZWQgPSB0cnVlOwoKICBpZiAoIWZpbGVzKSB7CiAgICByZXR1cm4gewogICAgICByZXNwb25zZTogewogICAgICAgIGFjdGlvbjogJ2NvbXBsZXRlJywKICAgICAgfQogICAgfTsKICB9CgogIGZvciAoY29uc3QgZmlsZSBvZiBmaWxlcykgewogICAgY29uc3QgbGkgPSBkb2N1bWVudC5jcmVhdGVFbGVtZW50KCdsaScpOwogICAgbGkuYXBwZW5kKHNwYW4oZmlsZS5uYW1lLCB7Zm9udFdlaWdodDogJ2JvbGQnfSkpOwogICAgbGkuYXBwZW5kKHNwYW4oCiAgICAgICAgYCgke2ZpbGUudHlwZSB8fCAnbi9hJ30pIC0gJHtmaWxlLnNpemV9IGJ5dGVzLCBgICsKICAgICAgICBgbGFzdCBtb2RpZmllZDogJHsKICAgICAgICAgICAgZmlsZS5sYXN0TW9kaWZpZWREYXRlID8gZmlsZS5sYXN0TW9kaWZpZWREYXRlLnRvTG9jYWxlRGF0ZVN0cmluZygpIDoKICAgICAgICAgICAgICAgICAgICAgICAgICAgICAgICAgICAgJ24vYSd9IC0gYCkpOwogICAgY29uc3QgcGVyY2VudCA9IHNwYW4oJzAlIGRvbmUnKTsKICAgIGxpLmFwcGVuZENoaWxkKHBlcmNlbnQpOwoKICAgIG91dHB1dEVsZW1lbnQuYXBwZW5kQ2hpbGQobGkpOwoKICAgIGNvbnN0IGZpbGVEYXRhUHJvbWlzZSA9IG5ldyBQcm9taXNlKChyZXNvbHZlKSA9PiB7CiAgICAgIGNvbnN0IHJlYWRlciA9IG5ldyBGaWxlUmVhZGVyKCk7CiAgICAgIHJlYWRlci5vbmxvYWQgPSAoZSkgPT4gewogICAgICAgIHJlc29sdmUoZS50YXJnZXQucmVzdWx0KTsKICAgICAgfTsKICAgICAgcmVhZGVyLnJlYWRBc0FycmF5QnVmZmVyKGZpbGUpOwogICAgfSk7CiAgICAvLyBXYWl0IGZvciB0aGUgZGF0YSB0byBiZSByZWFkeS4KICAgIGxldCBmaWxlRGF0YSA9IHlpZWxkIHsKICAgICAgcHJvbWlzZTogZmlsZURhdGFQcm9taXNlLAogICAgICByZXNwb25zZTogewogICAgICAgIGFjdGlvbjogJ2NvbnRpbnVlJywKICAgICAgfQogICAgfTsKCiAgICAvLyBVc2UgYSBjaHVua2VkIHNlbmRpbmcgdG8gYXZvaWQgbWVzc2FnZSBzaXplIGxpbWl0cy4gU2VlIGIvNjIxMTU2NjAuCiAgICBsZXQgcG9zaXRpb24gPSAwOwogICAgZG8gewogICAgICBjb25zdCBsZW5ndGggPSBNYXRoLm1pbihmaWxlRGF0YS5ieXRlTGVuZ3RoIC0gcG9zaXRpb24sIE1BWF9QQVlMT0FEX1NJWkUpOwogICAgICBjb25zdCBjaHVuayA9IG5ldyBVaW50OEFycmF5KGZpbGVEYXRhLCBwb3NpdGlvbiwgbGVuZ3RoKTsKICAgICAgcG9zaXRpb24gKz0gbGVuZ3RoOwoKICAgICAgY29uc3QgYmFzZTY0ID0gYnRvYShTdHJpbmcuZnJvbUNoYXJDb2RlLmFwcGx5KG51bGwsIGNodW5rKSk7CiAgICAgIHlpZWxkIHsKICAgICAgICByZXNwb25zZTogewogICAgICAgICAgYWN0aW9uOiAnYXBwZW5kJywKICAgICAgICAgIGZpbGU6IGZpbGUubmFtZSwKICAgICAgICAgIGRhdGE6IGJhc2U2NCwKICAgICAgICB9LAogICAgICB9OwoKICAgICAgbGV0IHBlcmNlbnREb25lID0gZmlsZURhdGEuYnl0ZUxlbmd0aCA9PT0gMCA/CiAgICAgICAgICAxMDAgOgogICAgICAgICAgTWF0aC5yb3VuZCgocG9zaXRpb24gLyBmaWxlRGF0YS5ieXRlTGVuZ3RoKSAqIDEwMCk7CiAgICAgIHBlcmNlbnQudGV4dENvbnRlbnQgPSBgJHtwZXJjZW50RG9uZX0lIGRvbmVgOwoKICAgIH0gd2hpbGUgKHBvc2l0aW9uIDwgZmlsZURhdGEuYnl0ZUxlbmd0aCk7CiAgfQoKICAvLyBBbGwgZG9uZS4KICB5aWVsZCB7CiAgICByZXNwb25zZTogewogICAgICBhY3Rpb246ICdjb21wbGV0ZScsCiAgICB9CiAgfTsKfQoKc2NvcGUuZ29vZ2xlID0gc2NvcGUuZ29vZ2xlIHx8IHt9OwpzY29wZS5nb29nbGUuY29sYWIgPSBzY29wZS5nb29nbGUuY29sYWIgfHwge307CnNjb3BlLmdvb2dsZS5jb2xhYi5fZmlsZXMgPSB7CiAgX3VwbG9hZEZpbGVzLAogIF91cGxvYWRGaWxlc0NvbnRpbnVlLAp9Owp9KShzZWxmKTsK",
              "ok": true,
              "headers": [
                [
                  "content-type",
                  "application/javascript"
                ]
              ],
              "status": 200,
              "status_text": ""
            }
          },
          "base_uri": "https://localhost:8080/",
          "height": 72
        },
        "outputId": "65f37e97-a3a3-4ebd-88c6-7c17965f0a2c"
      },
      "source": [
        "from google.colab import files\n",
        "uploaded = files.upload()"
      ],
      "execution_count": null,
      "outputs": [
        {
          "output_type": "display_data",
          "data": {
            "text/html": [
              "\n",
              "     <input type=\"file\" id=\"files-7c059261-0a54-48d5-91df-94ea7886a252\" name=\"files[]\" multiple disabled\n",
              "        style=\"border:none\" />\n",
              "     <output id=\"result-7c059261-0a54-48d5-91df-94ea7886a252\">\n",
              "      Upload widget is only available when the cell has been executed in the\n",
              "      current browser session. Please rerun this cell to enable.\n",
              "      </output>\n",
              "      <script src=\"/nbextensions/google.colab/files.js\"></script> "
            ],
            "text/plain": [
              "<IPython.core.display.HTML object>"
            ]
          },
          "metadata": {
            "tags": []
          }
        },
        {
          "output_type": "stream",
          "text": [
            "Saving rank2020.csv to rank2020.csv\n"
          ],
          "name": "stdout"
        }
      ]
    },
    {
      "cell_type": "code",
      "metadata": {
        "id": "RXkQObMJdi3b",
        "colab": {
          "base_uri": "https://localhost:8080/",
          "height": 609
        },
        "outputId": "42c669fc-e4fa-4721-c0e6-db7187b20619"
      },
      "source": [
        "df_rank_2020 = pd.read_csv(\"rank2020.csv\")\n",
        "df_rank_2020"
      ],
      "execution_count": null,
      "outputs": [
        {
          "output_type": "execute_result",
          "data": {
            "text/html": [
              "<div>\n",
              "<style scoped>\n",
              "    .dataframe tbody tr th:only-of-type {\n",
              "        vertical-align: middle;\n",
              "    }\n",
              "\n",
              "    .dataframe tbody tr th {\n",
              "        vertical-align: top;\n",
              "    }\n",
              "\n",
              "    .dataframe thead th {\n",
              "        text-align: right;\n",
              "    }\n",
              "</style>\n",
              "<table border=\"1\" class=\"dataframe\">\n",
              "  <thead>\n",
              "    <tr style=\"text-align: right;\">\n",
              "      <th></th>\n",
              "      <th>fips</th>\n",
              "      <th>state</th>\n",
              "      <th>county_name</th>\n",
              "      <th>health_outcomes_r</th>\n",
              "      <th>health_factors_r</th>\n",
              "      <th>length_life_r</th>\n",
              "      <th>quality_life_r</th>\n",
              "      <th>yppl</th>\n",
              "      <th>%poor_fair_health</th>\n",
              "      <th>%adult_obesity</th>\n",
              "      <th>food_environment_index</th>\n",
              "      <th>graduation_cohort</th>\n",
              "      <th>graduation_rate</th>\n",
              "      <th>%some_college</th>\n",
              "      <th>life_expectancy</th>\n",
              "      <th>%diabetes</th>\n",
              "      <th>%food_insecure</th>\n",
              "      <th>%limited_access</th>\n",
              "      <th>household_income</th>\n",
              "      <th>%lunch_aid</th>\n",
              "      <th>%african_american</th>\n",
              "      <th>%american_indian</th>\n",
              "      <th>%asian</th>\n",
              "      <th>%pacific_islander</th>\n",
              "      <th>%hispanic</th>\n",
              "      <th>%white</th>\n",
              "    </tr>\n",
              "  </thead>\n",
              "  <tbody>\n",
              "    <tr>\n",
              "      <th>0</th>\n",
              "      <td>36001</td>\n",
              "      <td>New York</td>\n",
              "      <td>Albany</td>\n",
              "      <td>25</td>\n",
              "      <td>10</td>\n",
              "      <td>15</td>\n",
              "      <td>44</td>\n",
              "      <td>5821.072418</td>\n",
              "      <td>14.208671</td>\n",
              "      <td>27.3</td>\n",
              "      <td>8.0</td>\n",
              "      <td>3014</td>\n",
              "      <td>84.406105</td>\n",
              "      <td>76.783305</td>\n",
              "      <td>80.033193</td>\n",
              "      <td>9.1</td>\n",
              "      <td>12.0</td>\n",
              "      <td>4.779735</td>\n",
              "      <td>64536</td>\n",
              "      <td>35.501123</td>\n",
              "      <td>12.793821</td>\n",
              "      <td>0.296630</td>\n",
              "      <td>6.783734</td>\n",
              "      <td>0.067401</td>\n",
              "      <td>6.100932</td>\n",
              "      <td>71.807487</td>\n",
              "    </tr>\n",
              "    <tr>\n",
              "      <th>1</th>\n",
              "      <td>36003</td>\n",
              "      <td>New York</td>\n",
              "      <td>Allegany</td>\n",
              "      <td>47</td>\n",
              "      <td>52</td>\n",
              "      <td>49</td>\n",
              "      <td>34</td>\n",
              "      <td>7283.136814</td>\n",
              "      <td>14.416292</td>\n",
              "      <td>35.9</td>\n",
              "      <td>8.1</td>\n",
              "      <td>502</td>\n",
              "      <td>87.848606</td>\n",
              "      <td>61.366776</td>\n",
              "      <td>77.999828</td>\n",
              "      <td>10.9</td>\n",
              "      <td>12.4</td>\n",
              "      <td>2.991699</td>\n",
              "      <td>46262</td>\n",
              "      <td>51.937743</td>\n",
              "      <td>1.277191</td>\n",
              "      <td>0.316606</td>\n",
              "      <td>1.294422</td>\n",
              "      <td>0.040922</td>\n",
              "      <td>1.677795</td>\n",
              "      <td>94.294637</td>\n",
              "    </tr>\n",
              "    <tr>\n",
              "      <th>2</th>\n",
              "      <td>36005</td>\n",
              "      <td>New York</td>\n",
              "      <td>Bronx</td>\n",
              "      <td>62</td>\n",
              "      <td>62</td>\n",
              "      <td>36</td>\n",
              "      <td>62</td>\n",
              "      <td>6695.768724</td>\n",
              "      <td>26.798947</td>\n",
              "      <td>29.0</td>\n",
              "      <td>7.7</td>\n",
              "      <td>14750</td>\n",
              "      <td>67.511864</td>\n",
              "      <td>51.169291</td>\n",
              "      <td>80.559175</td>\n",
              "      <td>12.5</td>\n",
              "      <td>16.0</td>\n",
              "      <td>0.000920</td>\n",
              "      <td>38566</td>\n",
              "      <td>86.602547</td>\n",
              "      <td>29.222586</td>\n",
              "      <td>2.913558</td>\n",
              "      <td>4.500074</td>\n",
              "      <td>0.414766</td>\n",
              "      <td>56.365475</td>\n",
              "      <td>9.130723</td>\n",
              "    </tr>\n",
              "    <tr>\n",
              "      <th>3</th>\n",
              "      <td>36007</td>\n",
              "      <td>New York</td>\n",
              "      <td>Broome</td>\n",
              "      <td>52</td>\n",
              "      <td>37</td>\n",
              "      <td>51</td>\n",
              "      <td>49</td>\n",
              "      <td>7415.065526</td>\n",
              "      <td>15.929985</td>\n",
              "      <td>28.0</td>\n",
              "      <td>8.0</td>\n",
              "      <td>2205</td>\n",
              "      <td>82.947846</td>\n",
              "      <td>67.255530</td>\n",
              "      <td>78.673505</td>\n",
              "      <td>10.6</td>\n",
              "      <td>12.8</td>\n",
              "      <td>3.240672</td>\n",
              "      <td>50928</td>\n",
              "      <td>54.397057</td>\n",
              "      <td>5.469610</td>\n",
              "      <td>0.268185</td>\n",
              "      <td>4.427134</td>\n",
              "      <td>0.066785</td>\n",
              "      <td>4.341565</td>\n",
              "      <td>82.996885</td>\n",
              "    </tr>\n",
              "    <tr>\n",
              "      <th>4</th>\n",
              "      <td>36009</td>\n",
              "      <td>New York</td>\n",
              "      <td>Cattaraugus</td>\n",
              "      <td>57</td>\n",
              "      <td>59</td>\n",
              "      <td>47</td>\n",
              "      <td>60</td>\n",
              "      <td>7254.951597</td>\n",
              "      <td>16.370700</td>\n",
              "      <td>37.6</td>\n",
              "      <td>8.1</td>\n",
              "      <td>1041</td>\n",
              "      <td>85.014409</td>\n",
              "      <td>56.038590</td>\n",
              "      <td>77.848799</td>\n",
              "      <td>13.3</td>\n",
              "      <td>12.5</td>\n",
              "      <td>2.583937</td>\n",
              "      <td>48017</td>\n",
              "      <td>50.843238</td>\n",
              "      <td>1.378188</td>\n",
              "      <td>3.547631</td>\n",
              "      <td>0.871942</td>\n",
              "      <td>0.037741</td>\n",
              "      <td>2.123894</td>\n",
              "      <td>90.393024</td>\n",
              "    </tr>\n",
              "    <tr>\n",
              "      <th>...</th>\n",
              "      <td>...</td>\n",
              "      <td>...</td>\n",
              "      <td>...</td>\n",
              "      <td>...</td>\n",
              "      <td>...</td>\n",
              "      <td>...</td>\n",
              "      <td>...</td>\n",
              "      <td>...</td>\n",
              "      <td>...</td>\n",
              "      <td>...</td>\n",
              "      <td>...</td>\n",
              "      <td>...</td>\n",
              "      <td>...</td>\n",
              "      <td>...</td>\n",
              "      <td>...</td>\n",
              "      <td>...</td>\n",
              "      <td>...</td>\n",
              "      <td>...</td>\n",
              "      <td>...</td>\n",
              "      <td>...</td>\n",
              "      <td>...</td>\n",
              "      <td>...</td>\n",
              "      <td>...</td>\n",
              "      <td>...</td>\n",
              "      <td>...</td>\n",
              "      <td>...</td>\n",
              "    </tr>\n",
              "    <tr>\n",
              "      <th>57</th>\n",
              "      <td>36115</td>\n",
              "      <td>New York</td>\n",
              "      <td>Washington</td>\n",
              "      <td>41</td>\n",
              "      <td>38</td>\n",
              "      <td>42</td>\n",
              "      <td>37</td>\n",
              "      <td>6949.619936</td>\n",
              "      <td>14.258736</td>\n",
              "      <td>33.6</td>\n",
              "      <td>8.4</td>\n",
              "      <td>690</td>\n",
              "      <td>79.565217</td>\n",
              "      <td>55.048419</td>\n",
              "      <td>78.567357</td>\n",
              "      <td>12.4</td>\n",
              "      <td>10.5</td>\n",
              "      <td>4.286443</td>\n",
              "      <td>55913</td>\n",
              "      <td>46.449938</td>\n",
              "      <td>2.939687</td>\n",
              "      <td>0.328447</td>\n",
              "      <td>0.558851</td>\n",
              "      <td>0.034315</td>\n",
              "      <td>2.849813</td>\n",
              "      <td>92.297008</td>\n",
              "    </tr>\n",
              "    <tr>\n",
              "      <th>58</th>\n",
              "      <td>36117</td>\n",
              "      <td>New York</td>\n",
              "      <td>Wayne</td>\n",
              "      <td>40</td>\n",
              "      <td>33</td>\n",
              "      <td>45</td>\n",
              "      <td>26</td>\n",
              "      <td>7146.866044</td>\n",
              "      <td>15.446684</td>\n",
              "      <td>36.3</td>\n",
              "      <td>8.6</td>\n",
              "      <td>1164</td>\n",
              "      <td>87.199313</td>\n",
              "      <td>64.357821</td>\n",
              "      <td>78.694902</td>\n",
              "      <td>12.1</td>\n",
              "      <td>9.8</td>\n",
              "      <td>3.488927</td>\n",
              "      <td>61118</td>\n",
              "      <td>46.736886</td>\n",
              "      <td>2.802452</td>\n",
              "      <td>0.416371</td>\n",
              "      <td>0.696172</td>\n",
              "      <td>0.041082</td>\n",
              "      <td>4.473486</td>\n",
              "      <td>89.829455</td>\n",
              "    </tr>\n",
              "    <tr>\n",
              "      <th>59</th>\n",
              "      <td>36119</td>\n",
              "      <td>New York</td>\n",
              "      <td>Westchester</td>\n",
              "      <td>5</td>\n",
              "      <td>3</td>\n",
              "      <td>2</td>\n",
              "      <td>23</td>\n",
              "      <td>4257.651377</td>\n",
              "      <td>14.801189</td>\n",
              "      <td>20.7</td>\n",
              "      <td>9.1</td>\n",
              "      <td>11163</td>\n",
              "      <td>89.554779</td>\n",
              "      <td>71.893480</td>\n",
              "      <td>83.505387</td>\n",
              "      <td>7.6</td>\n",
              "      <td>7.7</td>\n",
              "      <td>1.379185</td>\n",
              "      <td>94521</td>\n",
              "      <td>36.182755</td>\n",
              "      <td>13.804293</td>\n",
              "      <td>0.956478</td>\n",
              "      <td>6.435534</td>\n",
              "      <td>0.132284</td>\n",
              "      <td>25.140346</td>\n",
              "      <td>53.088118</td>\n",
              "    </tr>\n",
              "    <tr>\n",
              "      <th>60</th>\n",
              "      <td>36121</td>\n",
              "      <td>New York</td>\n",
              "      <td>Wyoming</td>\n",
              "      <td>18</td>\n",
              "      <td>28</td>\n",
              "      <td>25</td>\n",
              "      <td>9</td>\n",
              "      <td>6456.009504</td>\n",
              "      <td>13.954072</td>\n",
              "      <td>37.9</td>\n",
              "      <td>8.2</td>\n",
              "      <td>339</td>\n",
              "      <td>93.805310</td>\n",
              "      <td>55.188175</td>\n",
              "      <td>78.742584</td>\n",
              "      <td>12.3</td>\n",
              "      <td>10.5</td>\n",
              "      <td>6.066659</td>\n",
              "      <td>57709</td>\n",
              "      <td>43.360071</td>\n",
              "      <td>5.119122</td>\n",
              "      <td>0.444056</td>\n",
              "      <td>0.563802</td>\n",
              "      <td>0.029936</td>\n",
              "      <td>3.260571</td>\n",
              "      <td>89.901459</td>\n",
              "    </tr>\n",
              "    <tr>\n",
              "      <th>61</th>\n",
              "      <td>36123</td>\n",
              "      <td>New York</td>\n",
              "      <td>Yates</td>\n",
              "      <td>27</td>\n",
              "      <td>32</td>\n",
              "      <td>52</td>\n",
              "      <td>3</td>\n",
              "      <td>7491.401774</td>\n",
              "      <td>14.674492</td>\n",
              "      <td>29.5</td>\n",
              "      <td>8.8</td>\n",
              "      <td>214</td>\n",
              "      <td>78.504673</td>\n",
              "      <td>50.886025</td>\n",
              "      <td>78.210234</td>\n",
              "      <td>14.3</td>\n",
              "      <td>9.9</td>\n",
              "      <td>0.500011</td>\n",
              "      <td>51089</td>\n",
              "      <td>56.985605</td>\n",
              "      <td>0.885633</td>\n",
              "      <td>0.330099</td>\n",
              "      <td>0.825249</td>\n",
              "      <td>0.020128</td>\n",
              "      <td>2.310696</td>\n",
              "      <td>94.730486</td>\n",
              "    </tr>\n",
              "  </tbody>\n",
              "</table>\n",
              "<p>62 rows × 26 columns</p>\n",
              "</div>"
            ],
            "text/plain": [
              "     fips     state  county_name  ...  %pacific_islander  %hispanic     %white\n",
              "0   36001  New York       Albany  ...           0.067401   6.100932  71.807487\n",
              "1   36003  New York     Allegany  ...           0.040922   1.677795  94.294637\n",
              "2   36005  New York        Bronx  ...           0.414766  56.365475   9.130723\n",
              "3   36007  New York       Broome  ...           0.066785   4.341565  82.996885\n",
              "4   36009  New York  Cattaraugus  ...           0.037741   2.123894  90.393024\n",
              "..    ...       ...          ...  ...                ...        ...        ...\n",
              "57  36115  New York   Washington  ...           0.034315   2.849813  92.297008\n",
              "58  36117  New York        Wayne  ...           0.041082   4.473486  89.829455\n",
              "59  36119  New York  Westchester  ...           0.132284  25.140346  53.088118\n",
              "60  36121  New York      Wyoming  ...           0.029936   3.260571  89.901459\n",
              "61  36123  New York        Yates  ...           0.020128   2.310696  94.730486\n",
              "\n",
              "[62 rows x 26 columns]"
            ]
          },
          "metadata": {
            "tags": []
          },
          "execution_count": 17
        }
      ]
    },
    {
      "cell_type": "markdown",
      "metadata": {
        "id": "5MCfCcq4NkWP"
      },
      "source": [
        "#EDA"
      ]
    },
    {
      "cell_type": "code",
      "metadata": {
        "id": "YTjafPRvB7p3"
      },
      "source": [
        "df_2018_to_2019.info()"
      ],
      "execution_count": null,
      "outputs": []
    },
    {
      "cell_type": "code",
      "metadata": {
        "id": "nhhlixhxCRkP"
      },
      "source": [
        "df_2019_to_2020.info()"
      ],
      "execution_count": null,
      "outputs": []
    },
    {
      "cell_type": "code",
      "metadata": {
        "id": "Tku0Wn7MOppD"
      },
      "source": [
        "df_2018_to_2019.describe() #put year as a string or object or datetime"
      ],
      "execution_count": null,
      "outputs": []
    },
    {
      "cell_type": "code",
      "metadata": {
        "id": "9GHhlvh0NE9d"
      },
      "source": [
        "df_2019_to_2020.describe()"
      ],
      "execution_count": null,
      "outputs": []
    },
    {
      "cell_type": "code",
      "metadata": {
        "id": "_JcVH9TMWUv-"
      },
      "source": [
        "x = df_2018_to_2019['County']\n",
        "y = df_2018_to_2019['Amount of Aid']\n",
        "\n",
        "fig = plt.figure(figsize = (25, 10))\n",
        "\n",
        "plt.bar(x, y, color ='maroon',\n",
        "        width = 2)\n",
        " \n",
        "plt.xlabel(\"County\")\n",
        "plt.ylabel(\"Amount of Aid\")\n",
        "plt.title(\"Amount of Aid per County from 2018-2019\")\n",
        "plt.show()"
      ],
      "execution_count": null,
      "outputs": []
    },
    {
      "cell_type": "code",
      "metadata": {
        "id": "tc8Q5a-bkuiR"
      },
      "source": [
        "x = df_2019_to_2020['County']\n",
        "y = df_2019_to_2020['Amount of Aid']\n",
        "\n",
        "fig = plt.figure(figsize = (25, 10))\n",
        "\n",
        "plt.bar(x, y, color ='maroon',\n",
        "        width = 2)\n",
        " \n",
        "plt.xlabel(\"County\")\n",
        "plt.ylabel(\"Amount of Aid\")\n",
        "plt.title(\"Amount of Aid per County from 2019-2020\")\n",
        "plt.show()"
      ],
      "execution_count": null,
      "outputs": []
    },
    {
      "cell_type": "code",
      "metadata": {
        "id": "wgo_XOVkKHt7"
      },
      "source": [
        "a = df_2018_to_2019['Amount of Aid']\n",
        "y = df_2019_to_2020['Amount of Aid']\n",
        "\n",
        "fig = plt.figure(figsize = (25, 10))\n",
        "\n",
        "plt.bar(x, y, color ='maroon',\n",
        "        width = 2)\n",
        " \n",
        "plt.xlabel(\"County\")\n",
        "plt.ylabel(\"Amount of Aid\")\n",
        "plt.title(\"Amount of Aid per County from 2019-2020\")\n",
        "plt.show()"
      ],
      "execution_count": null,
      "outputs": []
    },
    {
      "cell_type": "code",
      "metadata": {
        "id": "UhNfzQmkrxsq"
      },
      "source": [
        "sns.boxplot(x = df[\"Beginning Fiscal Year\"], y= df[\"Amount of Aid\"], data = df)\n",
        "plt.title(\"Amount of Aid at Beginning Fiscal Year\")\n",
        "plt.figure(figsize = (20, 10))\n"
      ],
      "execution_count": null,
      "outputs": []
    },
    {
      "cell_type": "code",
      "metadata": {
        "id": "7LpfiWxyQcGy"
      },
      "source": [
        "import pingouin"
      ],
      "execution_count": null,
      "outputs": []
    }
  ]
}